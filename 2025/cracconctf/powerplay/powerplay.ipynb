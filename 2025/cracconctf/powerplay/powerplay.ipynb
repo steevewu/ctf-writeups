{
  "nbformat": 4,
  "nbformat_minor": 0,
  "metadata": {
    "colab": {
      "provenance": [],
      "gpuType": "T4"
    },
    "kernelspec": {
      "name": "python3",
      "display_name": "Python 3"
    },
    "language_info": {
      "name": "python"
    },
    "accelerator": "GPU"
  },
  "cells": [
    {
      "cell_type": "code",
      "execution_count": null,
      "metadata": {
        "id": "VVzHcM4o4oqe"
      },
      "outputs": [],
      "source": [
        "!sudo apt install libusb-dev make\n",
        "!pip install chipwhisperer"
      ]
    },
    {
      "cell_type": "code",
      "source": [
        "HammingWeightFn = lambda x: bin(x).count('1')\n",
        "\n",
        "# Precompute Hamming Weight\n",
        "HammingWeight = [ HammingWeightFn(n) for n in range (0x00, 0xff + 1) ]\n",
        "\n",
        "# Rijndael Substitution box\n",
        "SBox = [\n",
        "    # 0    1    2    3    4    5    6    7    8    9    a    b    c    d    e    f\n",
        "    0x63,0x7c,0x77,0x7b,0xf2,0x6b,0x6f,0xc5,0x30,0x01,0x67,0x2b,0xfe,0xd7,0xab,0x76, # 0\n",
        "    0xca,0x82,0xc9,0x7d,0xfa,0x59,0x47,0xf0,0xad,0xd4,0xa2,0xaf,0x9c,0xa4,0x72,0xc0, # 1\n",
        "    0xb7,0xfd,0x93,0x26,0x36,0x3f,0xf7,0xcc,0x34,0xa5,0xe5,0xf1,0x71,0xd8,0x31,0x15, # 2\n",
        "    0x04,0xc7,0x23,0xc3,0x18,0x96,0x05,0x9a,0x07,0x12,0x80,0xe2,0xeb,0x27,0xb2,0x75, # 3\n",
        "    0x09,0x83,0x2c,0x1a,0x1b,0x6e,0x5a,0xa0,0x52,0x3b,0xd6,0xb3,0x29,0xe3,0x2f,0x84, # 4\n",
        "    0x53,0xd1,0x00,0xed,0x20,0xfc,0xb1,0x5b,0x6a,0xcb,0xbe,0x39,0x4a,0x4c,0x58,0xcf, # 5\n",
        "    0xd0,0xef,0xaa,0xfb,0x43,0x4d,0x33,0x85,0x45,0xf9,0x02,0x7f,0x50,0x3c,0x9f,0xa8, # 6\n",
        "    0x51,0xa3,0x40,0x8f,0x92,0x9d,0x38,0xf5,0xbc,0xb6,0xda,0x21,0x10,0xff,0xf3,0xd2, # 7\n",
        "    0xcd,0x0c,0x13,0xec,0x5f,0x97,0x44,0x17,0xc4,0xa7,0x7e,0x3d,0x64,0x5d,0x19,0x73, # 8\n",
        "    0x60,0x81,0x4f,0xdc,0x22,0x2a,0x90,0x88,0x46,0xee,0xb8,0x14,0xde,0x5e,0x0b,0xdb, # 9\n",
        "    0xe0,0x32,0x3a,0x0a,0x49,0x06,0x24,0x5c,0xc2,0xd3,0xac,0x62,0x91,0x95,0xe4,0x79, # a\n",
        "    0xe7,0xc8,0x37,0x6d,0x8d,0xd5,0x4e,0xa9,0x6c,0x56,0xf4,0xea,0x65,0x7a,0xae,0x08, # b\n",
        "    0xba,0x78,0x25,0x2e,0x1c,0xa6,0xb4,0xc6,0xe8,0xdd,0x74,0x1f,0x4b,0xbd,0x8b,0x8a, # c\n",
        "    0x70,0x3e,0xb5,0x66,0x48,0x03,0xf6,0x0e,0x61,0x35,0x57,0xb9,0x86,0xc1,0x1d,0x9e, # d\n",
        "    0xe1,0xf8,0x98,0x11,0x69,0xd9,0x8e,0x94,0x9b,0x1e,0x87,0xe9,0xce,0x55,0x28,0xdf, # e\n",
        "    0x8c,0xa1,0x89,0x0d,0xbf,0xe6,0x42,0x68,0x41,0x99,0x2d,0x0f,0xb0,0x54,0xbb,0x16  # f\n",
        "]\n",
        "\n",
        "def hypothetical_power_usage(subkey, plain_text_char):\n",
        "\n",
        "    # Use the Hamming Weight power usage model\n",
        "    return HammingWeight[\n",
        "\n",
        "        # Do a SBox look up of the XOR-ed value\n",
        "        #\n",
        "        # Since the Hamming Weight of the SBox value will\n",
        "        # persist for longer in memory this will make finding the\n",
        "        # pattern easier. It is also still before the Row Shifting\n",
        "        # so it doesn't cause trouble.\n",
        "        SBox [\n",
        "\n",
        "            # The initial round key XOR-ed with the plain text\n",
        "            subkey ^ plain_text_char\n",
        "        ]\n",
        "    ]\n"
      ],
      "metadata": {
        "id": "2kDzBrg38WKG"
      },
      "execution_count": null,
      "outputs": []
    },
    {
      "cell_type": "code",
      "source": [
        "import numpy as np\n",
        "\n",
        "traces = np.load('power_traces.npy')\n",
        "textins = np.load('plaintexts.npy')\n",
        "\n",
        "num_traces = np.shape(traces)[0]\n",
        "num_points = np.shape(traces)[1]\n",
        "\n"
      ],
      "metadata": {
        "id": "1jpA5f7C9xAB"
      },
      "execution_count": null,
      "outputs": []
    },
    {
      "cell_type": "code",
      "source": [
        "def covariance(X, Y):\n",
        "    if len(X) != len(Y):\n",
        "        print(\"Lengths are unequal, quiting...\")\n",
        "        quit()\n",
        "\n",
        "    n = len(X)\n",
        "    mean_x = np.mean(X, dtype=np.float64)\n",
        "    mean_y = np.mean(Y, dtype=np.float64)\n",
        "\n",
        "    return np.sum((X - mean_x) * (Y - mean_y)) / n\n",
        "\n",
        "def standard_deviation(X):\n",
        "    n = len(X)\n",
        "    mean_x = np.mean(X, dtype=np.float64)\n",
        "\n",
        "    return np.sqrt( np.sum( np.power( (X - mean_x), 2 ) ) / n )\n",
        "\n",
        "def pearson_correlation_coefficient(X, Y):\n",
        "    cov = covariance(X, Y)\n",
        "    sd_x = standard_deviation(X)\n",
        "    sd_y = standard_deviation(Y)\n",
        "\n",
        "    return cov / ( sd_x * sd_y )\n"
      ],
      "metadata": {
        "id": "oBxBR2jj922i"
      },
      "execution_count": null,
      "outputs": []
    },
    {
      "cell_type": "code",
      "source": [
        "from tqdm import trange\n",
        "\n",
        "def calculate_correlation_coefficients(subkey, subkey_index):\n",
        "    # Declare a numpy for the hypothetical power usage\n",
        "    hypothetical_power = np.zeros(num_traces)\n",
        "\n",
        "    for trace_index in range(0, num_traces):\n",
        "        hypothetical_power[trace_index] = hypothetical_power_usage(\n",
        "            subkey,\n",
        "            textins[trace_index][subkey_index]\n",
        "        )\n",
        "\n",
        "    # We are going to the determine correlations between each trace point\n",
        "    # and the hypothetical power usage. This will save all those coefficients\n",
        "    point_correlation = np.zeros(num_points)\n",
        "\n",
        "    # Loop through all points and determine their correlation coefficients\n",
        "    for point_index in range(0, num_points):\n",
        "        point_correlation[point_index] = pearson_correlation_coefficient(\n",
        "            hypothetical_power,\n",
        "\n",
        "            # Look at the individual traces points for every trace\n",
        "            traces[:, point_index]\n",
        "        )\n",
        "\n",
        "    return point_correlation\n",
        "\n",
        "# Save all correlation coefficients\n",
        "max_correlation_coefficients = np.zeros(256)\n",
        "\n",
        "# Loop through values this subkey\n",
        "for subkey in trange(0xff + 1, desc=\"Attack Subkey\"):\n",
        "    max_correlation_coefficients[subkey] = max(abs(\n",
        "        calculate_correlation_coefficients(subkey, 0)\n",
        "    ))\n"
      ],
      "metadata": {
        "colab": {
          "base_uri": "https://localhost:8080/"
        },
        "id": "NPh-Die094fD",
        "outputId": "ba79c19d-0ac2-4479-a7fd-5cd2a80959b7"
      },
      "execution_count": null,
      "outputs": [
        {
          "output_type": "stream",
          "name": "stderr",
          "text": [
            "Attack Subkey: 100%|██████████| 256/256 [00:58<00:00,  4.35it/s]\n"
          ]
        }
      ]
    },
    {
      "cell_type": "code",
      "source": [
        "import matplotlib.pyplot as plt\n",
        "\n",
        "plt.plot(max_correlation_coefficients)\n",
        "plt.show()\n"
      ],
      "metadata": {
        "colab": {
          "base_uri": "https://localhost:8080/",
          "height": 430
        },
        "id": "-Ksrs-XR97IV",
        "outputId": "f3366a84-e848-4dc9-b7bd-12f49023afb2"
      },
      "execution_count": null,
      "outputs": [
        {
          "output_type": "display_data",
          "data": {
            "text/plain": [
              "<Figure size 640x480 with 1 Axes>"
            ],
            "image/png": "[encoded data removed]"
          },
          "metadata": {}
        }
      ]
    },
    {
      "cell_type": "code",
      "source": [
        "# Select the element with the highest correlation\n",
        "best_guess = np.argmax(max_correlation_coefficients)\n",
        "\n",
        "# Print both the hex value and the ASCII character\n",
        "print(\"Best guess: {:02x} or '{}'\".format(best_guess, chr(best_guess)))\n"
      ],
      "metadata": {
        "colab": {
          "base_uri": "https://localhost:8080/"
        },
        "id": "F1hPSMdO-LK5",
        "outputId": "704ef055-20b2-4e02-b0b5-ed432aad37c8"
      },
      "execution_count": null,
      "outputs": [
        {
          "output_type": "stream",
          "name": "stdout",
          "text": [
            "Best guess: 8a or ''\n"
          ]
        }
      ]
    },
    {
      "cell_type": "code",
      "source": [
        "# Looping through all possible bytes\n",
        "########################################\n",
        "# Save all correlation coefficients\n",
        "max_correlation_coefficients = np.zeros(256)\n",
        "\n",
        "# Loop through values this subkey\n",
        "for subkey in trange(0xff + 1, desc=\"Attack Subkey\"):\n",
        "    max_correlation_coefficients[subkey] = max(abs(\n",
        "        calculate_correlation_coefficients(subkey, 0)\n",
        "    ))\n",
        "########################################\n",
        "\n",
        "# Printing the best guess\n",
        "########################################\n",
        "# Select the element with the highest correlation\n",
        "best_guess = np.argmax(max_correlation_coefficients)\n",
        "\n",
        "# Print both the hex value and the ASCII character\n",
        "print(\"Best guess: {:02x} or '{}'\".format(best_guess, chr(best_guess)))\n",
        "########################################\n"
      ],
      "metadata": {
        "colab": {
          "base_uri": "https://localhost:8080/"
        },
        "id": "BJT5MziF-TCe",
        "outputId": "43132d2c-fcc5-4b33-c4bf-20ad6464b5e3"
      },
      "execution_count": null,
      "outputs": [
        {
          "output_type": "stream",
          "name": "stderr",
          "text": [
            "Attack Subkey: 100%|██████████| 256/256 [00:59<00:00,  4.27it/s]"
          ]
        },
        {
          "output_type": "stream",
          "name": "stdout",
          "text": [
            "Best guess: 8a or ''\n"
          ]
        },
        {
          "output_type": "stream",
          "name": "stderr",
          "text": [
            "\n"
          ]
        }
      ]
    },
    {
      "cell_type": "code",
      "source": [
        "# Looping through all subkeys\n",
        "########################################\n",
        "# The eventual key guess\n",
        "best_guess = np.zeros(16)\n",
        "\n",
        "# Loop through all possible subkeys\n",
        "for subkey_index in trange(16, desc=\"Subkey Index\"):\n",
        "    # Save all correlation coefficients\n",
        "    max_correlation_coefficients = np.zeros(256)\n",
        "\n",
        "    # Loop through values this subkey\n",
        "    for subkey in range(0x00, 0xff + 1):\n",
        "        max_correlation_coefficients[subkey] = max(abs(\n",
        "            calculate_correlation_coefficients(subkey, subkey_index)\n",
        "        ))\n",
        "\n",
        "    # Save the best guess\n",
        "    best_guess[subkey_index] = np.argmax(max_correlation_coefficients)\n",
        "########################################\n",
        "\n",
        "# Printing the best guess\n",
        "########################################\n",
        "print(\"Best guess:\")\n",
        "for b in best_guess: print(\"{:02x} \".format(int(b)), end=\"\")\n",
        "print(\"\")\n",
        "for b in best_guess: print(\"{}\".format(chr(int(b))), end=\"\")\n",
        "print(\"\")\n",
        "########################################\n"
      ],
      "metadata": {
        "colab": {
          "base_uri": "https://localhost:8080/"
        },
        "id": "uAjjqlxM-V1b",
        "outputId": "a144b493-ea01-418b-c8b0-7a89794147d5"
      },
      "execution_count": null,
      "outputs": [
        {
          "output_type": "stream",
          "name": "stderr",
          "text": [
            "Subkey Index: 100%|██████████| 16/16 [16:09<00:00, 60.57s/it]"
          ]
        },
        {
          "output_type": "stream",
          "name": "stdout",
          "text": [
            "Best guess:\n",
            "8a 86 d9 ae 01 45 6c e4 c8 15 2a 61 87 4a 93 a9 \n",
            "Ù®\u0001EläÈ\u0015*aJ©\n"
          ]
        },
        {
          "output_type": "stream",
          "name": "stderr",
          "text": [
            "\n"
          ]
        }
      ]
    },
    {
      "cell_type": "code",
      "source": [],
      "metadata": {
        "id": "sjz_uKQe-wUg"
      },
      "execution_count": null,
      "outputs": []
    }
  ]
}